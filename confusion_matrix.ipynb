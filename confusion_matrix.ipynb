{
 "cells": [
  {
   "cell_type": "markdown",
   "metadata": {},
   "source": [
    "This notebook produces the confusion matrix for a data and country you have specified in config.yaml."
   ]
  },
  {
   "cell_type": "code",
   "execution_count": null,
   "metadata": {},
   "outputs": [],
   "source": [
    "from pathlib import Path\n",
    "import pandas as pd\n",
    "\n",
    "# from scipy.spatial import distance\n",
    "import matplotlib.pyplot as plt\n",
    "import seaborn as sns\n",
    "from sklearn.metrics import confusion_matrix\n",
    "\n",
    "from common import get_comparison, load_results, get_config"
   ]
  },
  {
   "cell_type": "code",
   "execution_count": null,
   "metadata": {},
   "outputs": [],
   "source": [
    "def get_label(x, type=\"binary\"):\n",
    "    if type == \"binary\":\n",
    "        if x == 0:\n",
    "            label = \"no\"\n",
    "        else:\n",
    "            label = \"yes\"\n",
    "    else:\n",
    "        if x >= 30:\n",
    "            label = \"high\"\n",
    "        elif x >= 15:\n",
    "            label = \"moderate\"\n",
    "        elif x > 0:\n",
    "            label = \"low\"\n",
    "        else:\n",
    "            label = \"zero\"\n",
    "    return label"
   ]
  },
  {
   "cell_type": "code",
   "execution_count": null,
   "metadata": {},
   "outputs": [],
   "source": [
    "def get_predictions_and_results():\n",
    "    predictions = load_results()\n",
    "    # Gold data\n",
    "    ground_truth = pd.read_csv(Path(\"label_CSVs\") / \"training_complete.csv\")\n",
    "\n",
    "    df = get_comparison(predictions, ground_truth, \"inner\")\n",
    "    df[\"plotID\"] = df[\"plotID\"].astype(int)\n",
    "    df[\"pl_plotid\"] = df[\"pl_plotid\"].astype(int)\n",
    "    \n",
    "    return df\n",
    "\n",
    "def get_confusion_matrix(original_df, cf_type=\"binary\"):\n",
    "    # Prepare data for the confusion matrix\n",
    "\n",
    "    df = original_df.copy()\n",
    "    \n",
    "    # Use binary or multi to produce either binary or multi-label confusion matrix\n",
    "    df[\"label_g\"] = df[\"loss 2010-2018 g\"].apply(lambda x: get_label(x, cf_type))\n",
    "    df[\"label_p\"] = df[\"loss 2010-2018 p\"].apply(lambda x: get_label(x, cf_type))\n",
    "    \n",
    "    cm = confusion_matrix(df[\"label_g\"], df[\"label_p\"])\n",
    "    return cm"
   ]
  },
  {
   "cell_type": "code",
   "execution_count": null,
   "metadata": {},
   "outputs": [],
   "source": [
    "cf_type = \"binary\"\n",
    "config = get_config()\n",
    "country_name = config[\"confusion_matrix_country\"]\n",
    "df = get_predictions_and_results()\n",
    "cm = get_confusion_matrix(df, cf_type)\n",
    "\n",
    "if cf_type == \"binary\":\n",
    "    labels = [\"no deforestation\", \"deforestation\"]\n",
    "else:\n",
    "    labels = [\"zero\", \"low\", \"moderate\", \"high\"]\n",
    "        \n",
    "sns.set(font_scale=1.4)\n",
    "fig, ax = plt.subplots(figsize=(6, 4))\n",
    "\n",
    "g = sns.heatmap(\n",
    "    cm, annot=True, fmt=\"g\", ax=ax, cmap=sns.color_palette(\"light:b\", as_cmap=True)\n",
    ")\n",
    "g.set_yticklabels(labels=g.get_yticklabels(), va=\"center\")\n",
    "\n",
    "# labels, title and ticks\n",
    "ax.set_xlabel(\"Predicted labels\")\n",
    "ax.set_ylabel(\"True labels\")\n",
    "ax.set_title(f\"Confusion Matrix for {country_name}\")\n",
    "\n",
    "ax.xaxis.set_ticklabels(labels)\n",
    "ax.yaxis.set_ticklabels(labels)"
   ]
  }
 ],
 "metadata": {
  "kernelspec": {
   "display_name": "Python 3",
   "language": "python",
   "name": "python3"
  },
  "language_info": {
   "codemirror_mode": {
    "name": "ipython",
    "version": 3
   },
   "file_extension": ".py",
   "mimetype": "text/x-python",
   "name": "python",
   "nbconvert_exporter": "python",
   "pygments_lexer": "ipython3",
   "version": "3.8.6"
  }
 },
 "nbformat": 4,
 "nbformat_minor": 4
}
