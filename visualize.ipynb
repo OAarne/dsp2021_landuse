{
 "cells": [
  {
   "cell_type": "code",
   "execution_count": null,
   "id": "english-cooper",
   "metadata": {
    "extensions": {
     "jupyter_dashboards": {
      "activeView": "grid_default",
      "views": {
       "grid_default": {
        "col": null,
        "height": 2,
        "hidden": true,
        "row": null,
        "width": 2
       }
      }
     }
    }
   },
   "outputs": [],
   "source": [
    "from pathlib import Path\n",
    "import pandas as pd\n",
    "import ee\n",
    "import geemap\n",
    "from IPython.display import display, HTML, clear_output\n",
    "import ipywidgets as widgets\n",
    "\n",
    "ee.Initialize()"
   ]
  },
  {
   "cell_type": "code",
   "execution_count": null,
   "id": "waiting-porter",
   "metadata": {},
   "outputs": [],
   "source": [
    "from ipyleaflet import Marker, MarkerCluster"
   ]
  },
  {
   "cell_type": "code",
   "execution_count": null,
   "id": "about-jewelry",
   "metadata": {
    "extensions": {
     "jupyter_dashboards": {
      "activeView": "grid_default",
      "views": {
       "grid_default": {
        "col": null,
        "height": 2,
        "hidden": true,
        "row": null,
        "width": 2
       }
      }
     }
    }
   },
   "outputs": [],
   "source": [
    "def get_lon_lat(plot_id, gold):\n",
    "\n",
    "    # Get lon of particular plot\n",
    "    lon = gold[gold[\"pl_plotid\"] == plot_id][\"lon\"].iloc[0]\n",
    "    lat = gold[gold[\"pl_plotid\"] == plot_id][\"lat\"].iloc[0]\n",
    "\n",
    "    return lon, lat\n",
    "\n",
    "\n",
    "def get_map(point, zoom=15):\n",
    "    # Set up interactive map.\n",
    "    Map = geemap.Map(lite_mode=False)\n",
    "    Map.add_basemap(\"SATELLITE\")\n",
    "    Map.center_object(point, zoom)\n",
    "\n",
    "    return Map\n",
    "\n",
    "def get_jaxa_layer():\n",
    "    fnf = jaxa.select(\"fnf\")\n",
    "    vis = {\"min\": 1.0, \"max\": 3.0, \"palette\": [\"006400\", \"FEFF99\", \"0000FF\"]}\n",
    "    return fnf, vis"
   ]
  },
  {
   "cell_type": "code",
   "execution_count": null,
   "id": "noted-baseball",
   "metadata": {
    "extensions": {
     "jupyter_dashboards": {
      "activeView": "grid_default",
      "views": {
       "grid_default": {
        "col": null,
        "height": 2,
        "hidden": true,
        "row": null,
        "width": 2
       }
      }
     }
    }
   },
   "outputs": [],
   "source": [
    "def get_composite_layer(point):\n",
    "    region_around_point = point.buffer(500)\n",
    "    # collection2000 = (\n",
    "    #     ee.ImageCollection(\"LANDSAT/LE07/C01/T1_RT\")\n",
    "    #     .filterDate(\"2000-01-01\", \"2000-12-31\")\n",
    "    #     .filterBounds(point)\n",
    "    # )\n",
    "    # collection2010 = (\n",
    "    #     ee.ImageCollection(\"LANDSAT/LE07/C01/T1_RT\")\n",
    "    #     .filterDate(\"2010-01-01\", \"2010-12-31\")\n",
    "    #     .filterBounds(point)\n",
    "    # )\n",
    "    collection2018 = (\n",
    "        ee.ImageCollection(\"LANDSAT/LE07/C01/T1_RT\")\n",
    "        .filterDate(\"2018-01-01\", \"2018-12-31\")\n",
    "        .filterBounds(region_around_point)\n",
    "    )\n",
    "\n",
    "    # collection2000 = ee.Algorithms.Landsat.simpleComposite(collection2000)\n",
    "    # collection2010 = ee.Algorithms.Landsat.simpleComposite(collection2010)\n",
    "    collection2018 = ee.Algorithms.Landsat.simpleComposite(collection2018)\n",
    "\n",
    "    # Map.addLayer(collection2000.clip(point), {bands:[\"B7\",\"B5\",\"B3\"], max:128}, \"real 2000-753\")\n",
    "    # Map.addLayer(collection2010.clip(point), {bands:[\"B7\",\"B5\",\"B3\"], max:128}, \"real 2010-753\")\n",
    "\n",
    "    return collection2018.clip(region_around_point)"
   ]
  },
  {
   "cell_type": "code",
   "execution_count": null,
   "id": "novel-finnish",
   "metadata": {
    "extensions": {
     "jupyter_dashboards": {
      "activeView": "grid_default",
      "views": {
       "grid_default": {
        "col": null,
        "height": 2,
        "hidden": true,
        "row": null,
        "width": 2
       }
      }
     }
    }
   },
   "outputs": [],
   "source": [
    "jaxa = collection = ee.ImageCollection(\"JAXA/ALOS/PALSAR/YEARLY/FNF\").filterDate(\n",
    "    \"2017-01-01\", \"2017-12-31\"\n",
    ")\n",
    "hexas = ee.FeatureCollection(\"users/jjaakko/Finland_776_Hexagons_\")"
   ]
  },
  {
   "cell_type": "code",
   "execution_count": null,
   "id": "funky-teacher",
   "metadata": {
    "extensions": {
     "jupyter_dashboards": {
      "activeView": "grid_default",
      "views": {
       "grid_default": {
        "col": null,
        "height": 2,
        "hidden": true,
        "row": null,
        "width": 2
       }
      }
     }
    }
   },
   "outputs": [],
   "source": [
    "gold = pd.read_csv(Path(\"results/training_complete.csv\"))"
   ]
  },
  {
   "cell_type": "markdown",
   "id": "automotive-nitrogen",
   "metadata": {
    "extensions": {
     "jupyter_dashboards": {
      "activeView": "grid_default",
      "views": {
       "grid_default": {
        "col": 0,
        "height": 4,
        "hidden": false,
        "row": 0,
        "width": 9
       }
      }
     }
    }
   },
   "source": [
    "# Hexa visualizer\n",
    "\n",
    "Render satellite view, jaxa 2017 and landsat 7 composite from 2018 for the given hexagon.\n",
    "\n",
    "Some plotids to try out:  \n",
    "- 524872647\n",
    "- 525122005\n",
    "- 523291679 "
   ]
  },
  {
   "cell_type": "code",
   "execution_count": null,
   "id": "spare-antigua",
   "metadata": {
    "extensions": {
     "jupyter_dashboards": {
      "activeView": "grid_default",
      "views": {
       "grid_default": {
        "col": 0,
        "height": 2,
        "hidden": false,
        "row": 4,
        "width": 5
       }
      }
     }
    }
   },
   "outputs": [],
   "source": [
    "button = widgets.Button(description=\"Show hexagon\")\n",
    "output = widgets.Output()\n",
    "plotID = widgets.Text(\n",
    "    value=\"524872647\",\n",
    "    placeholder=\"\",\n",
    "    description=\"Enter hexagon's plotid:\",\n",
    "    style=dict(description_width=\"initial\"),\n",
    "    disabled=False,\n",
    ")\n",
    "display(plotID, button)"
   ]
  },
  {
   "cell_type": "code",
   "execution_count": null,
   "id": "friendly-mozambique",
   "metadata": {
    "extensions": {
     "jupyter_dashboards": {
      "activeView": "grid_default",
      "views": {
       "grid_default": {
        "col": 6,
        "height": 12,
        "hidden": false,
        "row": 6,
        "width": 6
       }
      }
     }
    }
   },
   "outputs": [],
   "source": [
    "display(output)"
   ]
  },
  {
   "cell_type": "code",
   "execution_count": null,
   "id": "heavy-commission",
   "metadata": {
    "extensions": {
     "jupyter_dashboards": {
      "activeView": "grid_default",
      "views": {
       "grid_default": {
        "col": 0,
        "height": 12,
        "hidden": false,
        "row": 6,
        "width": 6
       }
      }
     }
    }
   },
   "outputs": [],
   "source": [
    "output2 = widgets.Output()\n",
    "display(output2)"
   ]
  },
  {
   "cell_type": "code",
   "execution_count": null,
   "id": "physical-frequency",
   "metadata": {
    "extensions": {
     "jupyter_dashboards": {
      "activeView": "grid_default",
      "views": {
       "grid_default": {
        "col": 8,
        "height": 13,
        "hidden": true,
        "row": 0,
        "width": 4
       }
      }
     }
    }
   },
   "outputs": [],
   "source": [
    "def button_clicked(b):\n",
    "    with output:\n",
    "        try:\n",
    "            lon, lat = get_lon_lat(int(plotID.value), gold)\n",
    "            point = ee.Geometry.Point([lon, lat])\n",
    "            Map = get_map(point)\n",
    "            \n",
    "            fnf, vis = get_jaxa_layer()\n",
    "            # Show jaxa forest vs non-forest.\n",
    "            Map.addLayer(fnf, vis, \"fnf\", True)\n",
    "            \n",
    "            composite = get_composite_layer(point)\n",
    "            Map.addLayer(\n",
    "                composite,\n",
    "                {\"bands\": [\"B7\", \"B5\", \"B3\"], \"max\": 128},\n",
    "                \"real 2018-753\",\n",
    "            )\n",
    "            # Show hexagons on top.\n",
    "            Map.addLayer(hexas, {\"color\": \"blue\"}, \"hexas\", True, 0.3)\n",
    "            clear_output()\n",
    "            display(HTML(f\"Displaying {plotID.value}\"))\n",
    "            display(Map)\n",
    "        except IndexError:\n",
    "            clear_output()\n",
    "            display(HTML(f\"Hexagon with plotID of {plotID.value} not found.\"))\n",
    "        except ValueError:\n",
    "            clear_output()\n",
    "            display(HTML(f\"PlotID has to be an integer value.\"))\n",
    "            \n",
    "    with output2:\n",
    "        try:\n",
    "            lon, lat = get_lon_lat(int(plotID.value), gold)\n",
    "            point = ee.Geometry.Point([lon, lat])\n",
    "            Map2 = get_map(point, zoom=6)\n",
    "            composite2 = get_composite_layer(point)\n",
    "            Map2.addLayer(\n",
    "                composite2,\n",
    "                {\"bands\": [\"B7\", \"B5\", \"B3\"], \"max\": 128},\n",
    "                \"real 2018-753\", False\n",
    "            )\n",
    "            # Show hexagons on top.\n",
    "            Map2.addLayer(hexas, {\"color\": \"blue\"}, \"hexas\", True, 0.3)\n",
    "            markers = [Marker(location=[lat,lon])]\n",
    "            marker_cluster = MarkerCluster(\n",
    "                markers=markers,\n",
    "                name = 'Markers')\n",
    "            Map2.add_layer(marker_cluster)\n",
    "            clear_output()\n",
    "            display(HTML(f\"Displaying {plotID.value}\"))\n",
    "            display(Map2)\n",
    "        except IndexError:\n",
    "            clear_output()\n",
    "            display(HTML(f\"Hexagon with plotID of {plotID.value} not found.\"))\n",
    "        except ValueError:\n",
    "            clear_output()\n",
    "            display(HTML(f\"PlotID has to be an integer value.\"))\n",
    "\n",
    "button.on_click(button_clicked)"
   ]
  }
 ],
 "metadata": {
  "extensions": {
   "jupyter_dashboards": {
    "activeView": "grid_default",
    "version": 1,
    "views": {
     "grid_default": {
      "cellMargin": 2,
      "defaultCellHeight": 60,
      "maxColumns": 12,
      "name": "grid",
      "type": "grid"
     }
    }
   }
  },
  "kernelspec": {
   "display_name": "Python 3",
   "language": "python",
   "name": "python3"
  },
  "language_info": {
   "codemirror_mode": {
    "name": "ipython",
    "version": 3
   },
   "file_extension": ".py",
   "mimetype": "text/x-python",
   "name": "python",
   "nbconvert_exporter": "python",
   "pygments_lexer": "ipython3",
   "version": "3.8.6"
  }
 },
 "nbformat": 4,
 "nbformat_minor": 5
}
