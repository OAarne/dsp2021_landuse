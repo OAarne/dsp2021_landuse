{
 "cells": [
  {
   "cell_type": "code",
   "execution_count": null,
   "id": "authorized-surge",
   "metadata": {
    "extensions": {
     "jupyter_dashboards": {
      "activeView": "grid_default",
      "views": {
       "grid_default": {
        "col": null,
        "height": 2,
        "hidden": true,
        "row": null,
        "width": 2
       }
      }
     }
    }
   },
   "outputs": [],
   "source": [
    "from pathlib import Path\n",
    "import math\n",
    "import pandas as pd\n",
    "import ee\n",
    "import geemap\n",
    "from IPython.display import display, HTML, clear_output\n",
    "import ipywidgets as widgets\n",
    "from ipywidgets import GridspecLayout, Button, Layout, Label, Dropdown\n",
    "from IPython.core.debugger import set_trace\n",
    "from evaluate_results import load_histo_file\n",
    "from ipyleaflet import Marker, MarkerCluster, CircleMarker, LayerGroup\n",
    "from common import load_results, get_config"
   ]
  },
  {
   "cell_type": "code",
   "execution_count": null,
   "id": "verbal-receipt",
   "metadata": {},
   "outputs": [],
   "source": [
    "# ee.Authenticate()\n",
    "# This needs to be before ee.Initialize\n",
    "Map = geemap.Map()\n",
    "ee.Initialize()"
   ]
  },
  {
   "cell_type": "code",
   "execution_count": null,
   "id": "apart-fiction",
   "metadata": {
    "extensions": {
     "jupyter_dashboards": {
      "activeView": "grid_default",
      "views": {
       "grid_default": {
        "col": null,
        "height": 2,
        "hidden": true,
        "row": null,
        "width": 2
       }
      }
     }
    }
   },
   "outputs": [],
   "source": [
    "def get_marker_color(pred, gold):\n",
    "    if math.isnan(pred):\n",
    "        return \"darkgray\"\n",
    "    \n",
    "    delta = abs(pred-gold)\n",
    "    if  delta >= 75:\n",
    "        marker_color = \"red\"\n",
    "    elif delta >=50:\n",
    "        marker_color = \"pink\"\n",
    "    elif delta >=25:\n",
    "        marker_color = \"coral\"\n",
    "    else:\n",
    "        marker_color = \"blue\"\n",
    "        \n",
    "    return marker_color\n",
    "\n",
    "def get_marker_color_deforestation(deforest_p, deforest_g):\n",
    "    if math.isnan(deforest_p):\n",
    "        return \"darkgray\"\n",
    "    \n",
    "    if deforest_p == 0 and deforest_g == 0:\n",
    "        marker_color = \"blue\"\n",
    "    elif deforest_p > 0 and deforest_g > 0:\n",
    "        marker_color = \"green\"\n",
    "    elif deforest_p > 0 and deforest_g == 0:\n",
    "        marker_color = \"coral\"\n",
    "    else:\n",
    "        marker_color = \"red\"\n",
    "    \n",
    "    return marker_color\n",
    "\n",
    "\n",
    "def get_markers_as_layer_group(all, filtered_global_ids, on_map_show):\n",
    "    bounded_area = all[all[\"pl_plotid\"].isin(filtered_global_ids)]\n",
    "\n",
    "    markers = []\n",
    "    for _id, item in bounded_area.iterrows():\n",
    "        #markers.append(Marker(location=[item[\"lat\"],item[\"lon\"]], title=str(item[\"pl_plotid\"])))\n",
    "        #marker_color = get_marker_color(item[\"forest 2018 p\"], item[\"forest 2018 g\"])\n",
    "        if on_map_show == \"Forest loss\":\n",
    "            marker_color = get_marker_color_deforestation(item[\"loss 2010-2018 p\"], item[\"loss 2010-2018 g\"])\n",
    "        else:\n",
    "            marker_color = get_marker_color(item[\"forest 2018 p\"], item[\"forest 2018 g\"])\n",
    "        markers.append(CircleMarker(location=[item[\"lat\"],item[\"lon\"]], radius=5, weight=2, color=marker_color))\n",
    "    marker_cluster = MarkerCluster(\n",
    "        markers=markers,\n",
    "        name = 'Markers'\n",
    "    )\n",
    "    layer_group = LayerGroup(layers=markers)\n",
    "    return layer_group, bounded_area\n",
    "\n",
    "\n",
    "def get_rename_mapper():\n",
    "    rename_mapper = {\n",
    "        \"deforestation 2000-2010\": \"loss 2000-2010 p\",\n",
    "        \"deforestation 2010-2018\": \"loss 2010-2018 p\",\n",
    "        \"forest 2000\": \"forest 2000 p\",\n",
    "        \"forest 2010\": \"forest 2010 p\",\n",
    "        \"forest 2018\": \"forest 2018 p\",\n",
    "        \"% of Forest\": \"forest 2018 g\",\n",
    "        \"% Forest Loss 2000-2010\": \"loss 2000-2010 g\",\n",
    "        \"% Forest Loss 2010-2018\": \"loss 2010-2018 g\",\n",
    "    }\n",
    "    return rename_mapper\n",
    "\n",
    "\n",
    "def get_cols():\n",
    "    rename_mapper = get_rename_mapper()\n",
    "    cols = [\"plotID\", \"pl_plotid\", \"lon\", \"lat\", \"Sub-Categories if Naturally regenerated forest\", \"Sub-Categories if Planted forest\", *list(rename_mapper)]\n",
    "    return cols\n",
    "\n",
    "\n",
    "def get_comparison(pred_df, gold_df):\n",
    "\n",
    "    rename_mapper = get_rename_mapper()\n",
    "    cols = get_cols()\n",
    "    results_with_labels = pd.merge(\n",
    "        pred_df, gold_df, how=\"right\", left_on=\"plotID\", right_on=\"pl_plotid\"\n",
    "    )[cols]\n",
    "    results_with_labels = results_with_labels.rename(columns=rename_mapper)\n",
    "    return results_with_labels\n",
    "\n",
    "def get_data(plot_id, df):\n",
    "\n",
    "    # Get lon of particular plot\n",
    "    condition = df[\"pl_plotid\"] == plot_id\n",
    "    lon = df[condition][\"lon\"].iloc[0]\n",
    "    lat = df[condition][\"lat\"].iloc[0]\n",
    "    cat1 = df[condition][\"Sub-Categories if Planted forest\"].iloc[0]\n",
    "    cat2 = df[condition][\"Sub-Categories if Naturally regenerated forest\"].iloc[0]\n",
    "    forest2018g = df[condition][\"forest 2018 g\"].iloc[0]\n",
    "    forest2018p = df[condition][\"forest 2018 p\"].iloc[0]\n",
    "    return lon, lat, cat1, cat2, forest2018g, forest2018p\n",
    "\n",
    "\n",
    "def get_map(point, width=\"500px\", height=\"500px\", zoom=15):\n",
    "    # Set up interactive map.\n",
    "    Map = geemap.Map(lite_mode=False)\n",
    "    Map.add_basemap(\"SATELLITE\")\n",
    "    Map.center_object(point, zoom)\n",
    "    Map.layout.width=width\n",
    "    Map.layout.height=height\n",
    "    Map.scroll_wheel_zoom = False\n",
    "\n",
    "    return Map\n",
    "\n",
    "def get_jaxa_layer():\n",
    "    fnf = jaxa.select(\"fnf\")\n",
    "    vis = {\"min\": 1.0, \"max\": 3.0, \"palette\": [\"006400\", \"FEFF99\", \"0000FF\"]}\n",
    "    return fnf, vis"
   ]
  },
  {
   "cell_type": "code",
   "execution_count": null,
   "id": "quiet-stanford",
   "metadata": {
    "extensions": {
     "jupyter_dashboards": {
      "activeView": "grid_default",
      "views": {
       "grid_default": {
        "col": null,
        "height": 2,
        "hidden": true,
        "row": null,
        "width": 2
       }
      }
     }
    }
   },
   "outputs": [],
   "source": [
    "def get_composite_layer(point):\n",
    "    region_around_point = point.buffer(500)\n",
    "    # collection2000 = (\n",
    "    #     ee.ImageCollection(\"LANDSAT/LE07/C01/T1_RT\")\n",
    "    #     .filterDate(\"2000-01-01\", \"2000-12-31\")\n",
    "    #     .filterBounds(point)\n",
    "    # )\n",
    "    # collection2010 = (\n",
    "    #     ee.ImageCollection(\"LANDSAT/LE07/C01/T1_RT\")\n",
    "    #     .filterDate(\"2010-01-01\", \"2010-12-31\")\n",
    "    #     .filterBounds(point)\n",
    "    # )\n",
    "    collection2018 = (\n",
    "        ee.ImageCollection(\"LANDSAT/LE07/C01/T1_RT\")\n",
    "        .filterDate(\"2018-01-01\", \"2018-12-31\")\n",
    "        .filterBounds(region_around_point)\n",
    "    )\n",
    "\n",
    "    # collection2000 = ee.Algorithms.Landsat.simpleComposite(collection2000)\n",
    "    # collection2010 = ee.Algorithms.Landsat.simpleComposite(collection2010)\n",
    "    collection2018 = ee.Algorithms.Landsat.simpleComposite(collection2018)\n",
    "\n",
    "    # Map.addLayer(collection2000.clip(point), {bands:[\"B7\",\"B5\",\"B3\"], max:128}, \"real 2000-753\")\n",
    "    # Map.addLayer(collection2010.clip(point), {bands:[\"B7\",\"B5\",\"B3\"], max:128}, \"real 2010-753\")\n",
    "\n",
    "    return collection2018.clip(region_around_point)\n",
    "\n",
    "def button_v_clicked(b):\n",
    "    with output_v:\n",
    "        try:\n",
    "            # Get bounding box of the map.\n",
    "            ((min_y,min_x),(max_y,max_x)) = Map.bounds\n",
    "\n",
    "            bounding_region = ee.Geometry.Rectangle((min_x, min_y, \n",
    "            max_x, max_y))\n",
    "\n",
    "            # Get hexas residing inside the region.\n",
    "            feature_collection = hexas.filterBounds(bounding_region).getInfo()\n",
    "            filtered_global_ids = [int(feature[\"properties\"][\"global_id\"]) for feature in feature_collection[\"features\"]]\n",
    "\n",
    "            bounded_area = all[all[\"pl_plotid\"].isin(filtered_global_ids)]\n",
    "            bounded_area[\"pl_plotid\"] = bounded_area[\"pl_plotid\"].astype(int)\n",
    "            clear_output()\n",
    "            display(bounded_area)\n",
    "        except ValueError:\n",
    "            # Map wasn't ready yet.\n",
    "            pass\n",
    "        return output_v\n",
    "    \n",
    "def button_v_clicked_forest(b):\n",
    "    with output_v_forest:\n",
    "        try:\n",
    "            # Get bounding box of the map.\n",
    "            ((min_y,min_x),(max_y,max_x)) = Map_forest.bounds\n",
    "\n",
    "            bounding_region = ee.Geometry.Rectangle((min_x, min_y, \n",
    "            max_x, max_y))\n",
    "\n",
    "            # Get hexas residing inside the region.\n",
    "            feature_collection = hexas.filterBounds(bounding_region).getInfo()\n",
    "            filtered_global_ids = [int(feature[\"properties\"][\"global_id\"]) for feature in feature_collection[\"features\"]]\n",
    "\n",
    "            bounded_area = all[all[\"pl_plotid\"].isin(filtered_global_ids)]\n",
    "            bounded_area[\"pl_plotid\"] = bounded_area[\"pl_plotid\"].astype(int)\n",
    "            clear_output()\n",
    "            display(bounded_area)\n",
    "        except ValueError:\n",
    "            # Map wasn't ready yet.\n",
    "            pass\n",
    "        return output_v_forest"
   ]
  },
  {
   "cell_type": "code",
   "execution_count": null,
   "id": "variable-batch",
   "metadata": {
    "extensions": {
     "jupyter_dashboards": {
      "activeView": "grid_default",
      "views": {
       "grid_default": {
        "col": null,
        "height": 2,
        "hidden": true,
        "row": null,
        "width": 2
       }
      }
     }
    }
   },
   "outputs": [],
   "source": [
    "jaxa = ee.ImageCollection(\"JAXA/ALOS/PALSAR/YEARLY/FNF\").filterDate(\n",
    "    \"2017-01-01\", \"2017-12-31\"\n",
    ")\n",
    "#finland = ee.FeatureCollection(\"users/jjaakko/Finland_776_Hexagons_\")\n",
    "#hexas = finland.merge(ee.FeatureCollection('users/jjaakko/ParaguayHexagonsTrain'))\n",
    "hexas = ee.FeatureCollection(\"users/jjaakko/Finland_776_Hexagons_\")\n",
    "\n",
    "# Get gold labels.\n",
    "gold = pd.read_csv(Path(\"label_CSVs/validation_complete.csv\", dtype={'pl_plotid': int}))\n",
    "\n",
    "# Get predictions.\n",
    "pred_df = load_results()\n",
    "\n",
    "all = get_comparison(pred_df, gold)"
   ]
  },
  {
   "cell_type": "markdown",
   "id": "attached-design",
   "metadata": {
    "extensions": {
     "jupyter_dashboards": {
      "activeView": "grid_default",
      "views": {
       "grid_default": {
        "col": 0,
        "height": 4,
        "hidden": false,
        "row": 0,
        "width": 9
       }
      }
     }
    }
   },
   "source": [
    "# Hexa visualizer\n",
    "\n",
    "This tools is intended for two purposes:  \n",
    "\n",
    "- To visualize overall classification results along with the spatial information. Each hexagon is represented by a circle and the color of the circle indicates how accurate was the classification result compared to the visual interpretation data.\n",
    "- To visually debug the classifier by having a look of individual hexagons to figure out where the model is doing well and where it is failing."
   ]
  },
  {
   "cell_type": "code",
   "execution_count": null,
   "id": "pending-activation",
   "metadata": {},
   "outputs": [],
   "source": [
    "point = ee.Geometry.Point([29.0310810629922, 64.3901687169026])\n",
    "Map = get_map(point, zoom=10)\n",
    "\n",
    "try:\n",
    "    ((min_y,min_x),(max_y,max_x)) = Map.bounds\n",
    "except ValueError:\n",
    "    # Map wasn't ready yet.\n",
    "    #((min_y,min_x),(max_y,max_x)) = ((54.772375404880265, 5.30193328857422), (73.22521345877382, 49.247245788574226))\n",
    "    \n",
    "    #((min_y,min_x),(max_y,max_x)) = ((62, 22), (64, 24))\n",
    "    ((min_y,min_x),(max_y,max_x)) = ((-55.522411831398216, -117.0867919921875), (72.94865294642922, 58.69445800781251))\n",
    "    \n",
    "bounding_region = ee.Geometry.Rectangle((min_x, min_y, max_x, max_y))\n",
    "\n",
    "# Get hexas residing inside the region.\n",
    "feature_collection = hexas.filterBounds(bounding_region).getInfo()\n",
    "filtered_global_ids = [int(feature[\"properties\"][\"global_id\"]) for feature in feature_collection[\"features\"]]\n",
    "\n",
    "layer_group, bounded_area = get_markers_as_layer_group(all, filtered_global_ids, \"Forest loss\")\n",
    "\n",
    "Map.add_layer(layer_group)\n",
    "\n",
    "Map.layout.width=\"500px\"\n",
    "Map.layout.height=\"500px\"\n",
    "\n",
    "button_v = widgets.Button(description=\"Filter based on visible area\")\n",
    "output_v = widgets.Output()\n",
    "with output_v:\n",
    "    display(bounded_area)"
   ]
  },
  {
   "cell_type": "markdown",
   "id": "mediterranean-glory",
   "metadata": {},
   "source": [
    "### Forest loss\n",
    "\n",
    "On the below map you will see the hexas presented as circles. The color coding is as follows:  \n",
    "\n",
    "- Blue (there were no deforestation and model predicted none)\n",
    "- Green (there was deforestation and the model predicted deforestation)\n",
    "- Orange (there were no deforestation but the model predicted deforestation)\n",
    "- Red (there was deforestation but the model didn't predict deforestation)\n",
    "\n",
    "You can move on the map and zoom on a specific area. When you click the `Filter` button, information from within that area gets shown in the ara to the right of the map."
   ]
  },
  {
   "cell_type": "code",
   "execution_count": null,
   "id": "congressional-comment",
   "metadata": {},
   "outputs": [],
   "source": [
    "display(button_v)\n",
    "button_v.on_click(button_v_clicked)"
   ]
  },
  {
   "cell_type": "code",
   "execution_count": null,
   "id": "wound-crisis",
   "metadata": {},
   "outputs": [],
   "source": [
    "Map.layout.margin = \"0px 20px 0px 0px\"\n",
    "output_v.layout.overflow=\"scroll\"\n",
    "grid = GridspecLayout(1, 2, height='500px')\n",
    "grid[0, 0] = Map\n",
    "grid[0, 1] = output_v\n",
    "grid"
   ]
  },
  {
   "cell_type": "code",
   "execution_count": null,
   "id": "fiscal-stewart",
   "metadata": {},
   "outputs": [],
   "source": [
    "Map_forest = get_map(point, zoom=10)\n",
    "\n",
    "layer_group_forest, bounded_area = get_markers_as_layer_group(all, filtered_global_ids, \"Forest\")\n",
    "\n",
    "Map_forest.add_layer(layer_group_forest)\n",
    "\n",
    "Map_forest.layout.width=\"500px\"\n",
    "Map_forest.layout.height=\"500px\"\n",
    "\n",
    "button_v_forest = widgets.Button(description=\"Filter based on visible area\")\n",
    "output_v_forest = widgets.Output()\n",
    "with output_v_forest:\n",
    "    display(bounded_area)"
   ]
  },
  {
   "cell_type": "markdown",
   "id": "cloudy-footwear",
   "metadata": {},
   "source": [
    "### Forest\n",
    "\n",
    "On the below map you will see the hexas presented as circles. The color coding is as follows:  \n",
    "\n",
    "- Blue (predicted and actual amount differ less than 25%)\n",
    "- Orange (predicted and actual amount differ 25%-50%)\n",
    "- Pink (predicted and actual amount differ 50%-75%)\n",
    "- Red (predicted and actual amount differ more than 75%)\n",
    "\n",
    "You can move on the map and zoom on a specific area. When you click the `Filter` button, information from within that area gets shown in the ara to the right of the map."
   ]
  },
  {
   "cell_type": "code",
   "execution_count": null,
   "id": "extended-acoustic",
   "metadata": {},
   "outputs": [],
   "source": [
    "display(button_v_forest)\n",
    "button_v_forest.on_click(button_v_clicked_forest)\n",
    "\n",
    "Map_forest.layout.margin = \"0px 20px 0px 0px\"\n",
    "output_v_forest.layout.overflow=\"scroll\"\n",
    "grid_forest = GridspecLayout(1, 2, height='500px')\n",
    "grid_forest[0, 0] = Map_forest\n",
    "grid_forest[0, 1] = output_v_forest\n",
    "grid_forest"
   ]
  },
  {
   "cell_type": "markdown",
   "id": "infinite-flesh",
   "metadata": {},
   "source": [
    "By clicking the `Show hexagon` button, two maps are loaded. The leftmost contains a small map that you can use to see the overall location near around the selected hexagon. The map on the right displays a detailed view of the hexagon with multiple layers."
   ]
  },
  {
   "cell_type": "code",
   "execution_count": null,
   "id": "matched-method",
   "metadata": {
    "extensions": {
     "jupyter_dashboards": {
      "activeView": "grid_default",
      "views": {
       "grid_default": {
        "col": 0,
        "height": 2,
        "hidden": false,
        "row": 4,
        "width": 5
       }
      }
     }
    }
   },
   "outputs": [],
   "source": [
    "button = widgets.Button(description=\"Show hexagon\")\n",
    "output = widgets.Output()\n",
    "plotID = widgets.Text(\n",
    "    value=\"524872647\",\n",
    "    placeholder=\"\",\n",
    "    description=\"Enter hexagon's plotid:\",\n",
    "    style=dict(description_width=\"initial\"),\n",
    "    disabled=False,\n",
    ")\n",
    "display(plotID, button)"
   ]
  },
  {
   "cell_type": "code",
   "execution_count": null,
   "id": "adolescent-mexico",
   "metadata": {
    "extensions": {
     "jupyter_dashboards": {
      "activeView": "grid_default",
      "views": {
       "grid_default": {
        "col": 0,
        "height": 2,
        "hidden": false,
        "row": 6,
        "width": 7
       }
      }
     }
    }
   },
   "outputs": [],
   "source": [
    "details_output = widgets.Output()\n",
    "display(details_output)"
   ]
  },
  {
   "cell_type": "code",
   "execution_count": null,
   "id": "cardiac-spiritual",
   "metadata": {
    "extensions": {
     "jupyter_dashboards": {
      "activeView": "grid_default",
      "views": {
       "grid_default": {
        "col": 6,
        "height": 12,
        "hidden": false,
        "row": 8,
        "width": 6
       }
      }
     }
    }
   },
   "outputs": [],
   "source": [
    "# display(output)"
   ]
  },
  {
   "cell_type": "code",
   "execution_count": null,
   "id": "hispanic-feedback",
   "metadata": {
    "extensions": {
     "jupyter_dashboards": {
      "activeView": "grid_default",
      "views": {
       "grid_default": {
        "col": 0,
        "height": 12,
        "hidden": false,
        "row": 8,
        "width": 6
       }
      }
     }
    }
   },
   "outputs": [],
   "source": [
    "output2 = widgets.Output()"
   ]
  },
  {
   "cell_type": "code",
   "execution_count": null,
   "id": "engaged-visitor",
   "metadata": {},
   "outputs": [],
   "source": [
    "grid2 = GridspecLayout(1, 5, height='800px')\n",
    "grid2[0, 0] = output2\n",
    "grid2[0, 1:] = output\n",
    "grid2"
   ]
  },
  {
   "cell_type": "code",
   "execution_count": null,
   "id": "fatty-arcade",
   "metadata": {
    "extensions": {
     "jupyter_dashboards": {
      "activeView": "grid_default",
      "views": {
       "grid_default": {
        "col": 8,
        "height": 13,
        "hidden": true,
        "row": 0,
        "width": 4
       }
      }
     }
    }
   },
   "outputs": [],
   "source": [
    "def button_clicked(b):\n",
    "    try:\n",
    "        with details_output:\n",
    "            lon, lat, cat1, cat2, forest2018g, forest2018p = get_data(int(plotID.value), all)\n",
    "            clear_output()\n",
    "            display(HTML(f\"Cat1: {cat1}\"))\n",
    "            display(HTML(f\"Cat2: {cat2}\"))\n",
    "            display(HTML(f\"Forest 2018 (gold): {forest2018g}\"))\n",
    "            display(HTML(f\"Forest 2018 (pred): {forest2018p}\"))\n",
    "        \n",
    "        with output:\n",
    "            #lon, lat, cat1, cat2, forest2018g, forest2018p = get_data(int(plotID.value), all)\n",
    "            point = ee.Geometry.Point([lon, lat])\n",
    "            Map = get_map(point, \"840px\", \"600px\", zoom=14)\n",
    "\n",
    "            fnf, vis = get_jaxa_layer()\n",
    "            # Show jaxa forest vs non-forest.\n",
    "            Map.addLayer(fnf, vis, \"fnf\", True)\n",
    "\n",
    "            composite = get_composite_layer(point)\n",
    "            Map.addLayer(\n",
    "                composite,\n",
    "                {\"bands\": [\"B4\", \"B5\", \"B3\"], \"max\": 258},\n",
    "                \"real 2018\",\n",
    "            )\n",
    "            # Show hexagons on top.\n",
    "            Map.addLayer(hexas, {\"color\": \"blue\"}, \"hexas\", True, 0.3)\n",
    "            clear_output()\n",
    "            display(HTML(f\"Displaying {plotID.value} !!\"))\n",
    "            display(Map)\n",
    "\n",
    "        with output2:\n",
    "            #lon, lat, cat1, cat2, _forest2018g, _forest2018p = get_data(int(plotID.value), all)\n",
    "            point = ee.Geometry.Point([lon, lat])\n",
    "            Map2 = get_map(point, \"200px\", \"200px\", zoom=4)\n",
    "            #composite2 = get_composite_layer(point)\n",
    "            #Map2.addLayer(\n",
    "            #    composite2,\n",
    "            #    {\"bands\": [\"B7\", \"B5\", \"B3\"], \"max\": 258},\n",
    "            #    \"real 2018-753\", False\n",
    "            #)\n",
    "            # Show hexagons on top.\n",
    "            Map2.addLayer(hexas, {\"color\": \"blue\"}, \"hexas\", True, 0.3)\n",
    "            markers = [Marker(location=[lat,lon])]\n",
    "            marker_cluster = MarkerCluster(\n",
    "                markers=markers,\n",
    "                name = 'Markers')\n",
    "            Map2.add_layer(marker_cluster)\n",
    "            clear_output()\n",
    "            display(HTML(f\"Displaying {plotID.value}\"))\n",
    "            display(Map2)\n",
    "        return output, output2\n",
    "            \n",
    "    except IndexError:\n",
    "        clear_output()\n",
    "        display(HTML(f\"Hexagon with plotID of {plotID.value} not found.\"))\n",
    "    except ValueError:\n",
    "        clear_output()\n",
    "        display(HTML(f\"PlotID has to be an integer value.\"))\n",
    "\n",
    "button.on_click(button_clicked)"
   ]
  }
 ],
 "metadata": {
  "extensions": {
   "jupyter_dashboards": {
    "activeView": "grid_default",
    "version": 1,
    "views": {
     "grid_default": {
      "cellMargin": 2,
      "defaultCellHeight": 60,
      "maxColumns": 12,
      "name": "grid",
      "type": "grid"
     }
    }
   }
  },
  "kernelspec": {
   "display_name": "Python 3",
   "language": "python",
   "name": "python3"
  },
  "language_info": {
   "codemirror_mode": {
    "name": "ipython",
    "version": 3
   },
   "file_extension": ".py",
   "mimetype": "text/x-python",
   "name": "python",
   "nbconvert_exporter": "python",
   "pygments_lexer": "ipython3",
   "version": "3.8.6"
  }
 },
 "nbformat": 4,
 "nbformat_minor": 5
}
